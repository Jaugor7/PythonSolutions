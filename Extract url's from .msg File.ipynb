{
 "cells": [
  {
   "cell_type": "code",
   "execution_count": 26,
   "metadata": {},
   "outputs": [],
   "source": [
    "import extract_msg\n",
    "\n",
    "f = r'email.msg'  # Replace with yours\n",
    "msg = extract_msg.Message(f)\n",
    "msg_sender = msg.sender\n",
    "msg_date = msg.date\n",
    "msg_subj = msg.subject\n",
    "msg_message = msg.body\n",
    "\n",
    "# print('Sender: {}'.format(msg_sender))\n",
    "# print('Sent On: {}'.format(msg_date))\n",
    "# print('Subject: {}'.format(msg_subj))\n",
    "# print('Body: {}'.format(msg_message))"
   ]
  },
  {
   "cell_type": "code",
   "execution_count": 27,
   "metadata": {},
   "outputs": [],
   "source": [
    "from urlextract import URLExtract\n",
    "import requests    "
   ]
  },
  {
   "cell_type": "code",
   "execution_count": 28,
   "metadata": {},
   "outputs": [],
   "source": [
    "extractor = URLExtract()            \n",
    "links = extractor.find_urls(msg_message)"
   ]
  },
  {
   "cell_type": "code",
   "execution_count": 29,
   "metadata": {},
   "outputs": [
    {
     "name": "stdout",
     "output_type": "stream",
     "text": [
      "200\n",
      "200\n",
      "200\n",
      "200\n",
      "200\n",
      "200\n",
      "200\n",
      "200\n",
      "200\n",
      "200\n",
      "200\n"
     ]
    }
   ],
   "source": [
    "try:\n",
    "    for link in links:\n",
    "        result = requests.get(link)\n",
    "        print(result.status_code)\n",
    "except:\n",
    "    print(\"Link can-not be Opened\")"
   ]
  },
  {
   "cell_type": "code",
   "execution_count": null,
   "metadata": {},
   "outputs": [],
   "source": []
  }
 ],
 "metadata": {
  "kernelspec": {
   "display_name": "Python 3",
   "language": "python",
   "name": "python3"
  },
  "language_info": {
   "codemirror_mode": {
    "name": "ipython",
    "version": 3
   },
   "file_extension": ".py",
   "mimetype": "text/x-python",
   "name": "python",
   "nbconvert_exporter": "python",
   "pygments_lexer": "ipython3",
   "version": "3.7.3"
  }
 },
 "nbformat": 4,
 "nbformat_minor": 2
}
