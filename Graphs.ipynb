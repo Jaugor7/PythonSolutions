{
 "cells": [
  {
   "cell_type": "code",
   "execution_count": 11,
   "metadata": {},
   "outputs": [],
   "source": [
    "from collections import defaultdict\n",
    "\n",
    "def addNode(graph, u, v):\n",
    "    graph[u].append(v)"
   ]
  },
  {
   "cell_type": "code",
   "execution_count": 18,
   "metadata": {},
   "outputs": [],
   "source": [
    "def findshortestpath(graph, start, end, path=[]):\n",
    "    path = path + [start]\n",
    "    \n",
    "    if start == end:\n",
    "        return path\n",
    "    \n",
    "    shortpath = None\n",
    "    \n",
    "    for node in graph[start]:\n",
    "        if node not in path:\n",
    "            newpath = findshortestpath(graph, node, end, path)\n",
    "            if newpath:\n",
    "                if not shortpath or len(shortpath)> len(newpath):\n",
    "                    shortpath = newpath\n",
    "                    \n",
    "    return shortpath\n",
    "                \n",
    "        "
   ]
  },
  {
   "cell_type": "code",
   "execution_count": 13,
   "metadata": {},
   "outputs": [],
   "source": [
    "def findpath(graph, start, end, path = []):\n",
    "    path = path + [start]\n",
    "    \n",
    "    if start == end:\n",
    "        return path\n",
    "    \n",
    "    for node in graph[start]:\n",
    "        if node not in path:\n",
    "            newpath = findpath(graph, node, end, path)\n",
    "            if newpath:\n",
    "                return newpath\n",
    "            else:\n",
    "                return None\n",
    "    "
   ]
  },
  {
   "cell_type": "code",
   "execution_count": 23,
   "metadata": {},
   "outputs": [],
   "source": [
    "def findallpaths(graph, start, end, path = []):\n",
    "    path = path + [start]\n",
    "    \n",
    "    if start == end:\n",
    "        return [path]\n",
    "    \n",
    "    allpaths = []\n",
    "    \n",
    "    for node in graph[start]:\n",
    "        if node not in path:\n",
    "            newpath = findallpaths(graph, node, end, path)\n",
    "            for pa in newpath:\n",
    "                allpaths.append(pa)\n",
    "    return allpaths"
   ]
  },
  {
   "cell_type": "code",
   "execution_count": 31,
   "metadata": {},
   "outputs": [],
   "source": [
    "def findallpathsattempt2(graph, start, end, path = [], allpaths=[]):\n",
    "    path = path + [start]\n",
    "    \n",
    "    if start == end:\n",
    "        return allpaths.append(path)\n",
    "    \n",
    "    for node in graph[start]:\n",
    "        if node not in path:\n",
    "            newpath = findallpathsattempt2(graph, node, end, path)\n",
    "            \n",
    "    return allpaths"
   ]
  },
  {
   "cell_type": "code",
   "execution_count": 32,
   "metadata": {},
   "outputs": [
    {
     "name": "stdout",
     "output_type": "stream",
     "text": [
      "Enter No of Edges8\n",
      "a->b\n",
      "b->a\n",
      "a->c\n",
      "c->a\n",
      "b->c\n",
      "c->b\n",
      "c->d\n",
      "d->c\n",
      "['a', 'b', 'c', 'd']\n",
      "['a', 'c', 'd']\n",
      "[['a', 'b', 'c', 'd'], ['a', 'c', 'd']]\n"
     ]
    }
   ],
   "source": [
    "if __name__ == '__main__':\n",
    "    graph = defaultdict(list)\n",
    "    n = int(input(\"Enter No of Edges\"))\n",
    "    for i in range(n):\n",
    "        s = input().strip()\n",
    "        u, v = s.split('->')\n",
    "        addNode(graph, u.strip(), v.strip())\n",
    "    print(findpath(graph,'a','d'))\n",
    "    print(findshortestpath(graph,'a','d'))\n",
    "    print(findallpathsattempt2(graph,'a','d'))"
   ]
  },
  {
   "cell_type": "code",
   "execution_count": 178,
   "metadata": {},
   "outputs": [],
   "source": [
    "class Node:\n",
    "    def __init__(self,val):\n",
    "        self.val = val\n",
    "        self.right = None\n",
    "        self.left = None"
   ]
  },
  {
   "cell_type": "code",
   "execution_count": 181,
   "metadata": {},
   "outputs": [],
   "source": [
    "from collections import defaultdict\n",
    "class Graph:\n",
    "    def __init__(self):\n",
    "        self.graph = defaultdict(list)\n",
    "    def addNode(self, u, v):\n",
    "        self.graph[u].append(v) \n",
    "    def showGraph(self):\n",
    "        print(self.graph)\n",
    "    def isPath(self, start, end, path = []):\n",
    "        path += [start]\n",
    "        if start == end:\n",
    "            return True\n",
    "        for node in self.graph[start]:\n",
    "            if node not in path:\n",
    "                newpath = self.isPath(node,end,path)\n",
    "                if newpath:\n",
    "                    return True\n",
    "        return False\n",
    "    def findshortestpath(self, start, end, path=[]):\n",
    "        path = path + [start]\n",
    "        if start == end:\n",
    "            return path\n",
    "        shortpath = None\n",
    "        for node in self.graph[start]:\n",
    "            if node not in path:\n",
    "                newpath = self.findshortestpath(node, end, path)\n",
    "                if newpath:\n",
    "                    if not shortpath or len(shortpath)> len(newpath):\n",
    "                        shortpath = newpath              \n",
    "        return shortpath\n",
    "    def findAllPaths(self,start, end, path = [], allpaths=[]):\n",
    "        path = path + [start]\n",
    "\n",
    "        if start == end:\n",
    "            return allpaths.append(path)\n",
    "\n",
    "        for node in self.graph[start]:\n",
    "            if node not in path:\n",
    "                newpath = self.findAllPaths(node, end, path)\n",
    "\n",
    "        return allpaths\n",
    "    def minTree(self, arr):\n",
    "        if not arr:\n",
    "            return None\n",
    "        mid = len(arr)//2\n",
    "        root = Node(arr[mid])\n",
    "        root.left = self.minTree(arr[:mid])\n",
    "        root.right = self.minTree(arr[mid+1:])\n",
    "        return root\n",
    "    \n",
    "    def Traversalmy(root):\n",
    "        if root:\n",
    "            Graph.Traversalmy(root.left)\n",
    "            print(root.val, end=' -> ')\n",
    "            Graph.Traversalmy(root.right)\n",
    "            \n",
    "            "
   ]
  },
  {
   "cell_type": "code",
   "execution_count": 188,
   "metadata": {},
   "outputs": [],
   "source": [
    "class Nod:\n",
    "    def __init__(self, val):\n",
    "        self.val = val\n",
    "        self.next = Non\n",
    "\n",
    "def dLinkedLists(root, li =[]):\n",
    "    if root:\n",
    "        li.append([root.val])\n",
    "        li.append( [dLinkedLists(root.left), dLinkedLists(root.right, li) ] )\n",
    "        return li"
   ]
  },
  {
   "cell_type": "code",
   "execution_count": 189,
   "metadata": {},
   "outputs": [
    {
     "name": "stdout",
     "output_type": "stream",
     "text": [
      "Enter No of Edges\n",
      "f\n"
     ]
    },
    {
     "ename": "ValueError",
     "evalue": "invalid literal for int() with base 10: 'f'",
     "output_type": "error",
     "traceback": [
      "\u001b[1;31m---------------------------------------------------------------------------\u001b[0m",
      "\u001b[1;31mValueError\u001b[0m                                Traceback (most recent call last)",
      "\u001b[1;32m<ipython-input-189-09d15011cc10>\u001b[0m in \u001b[0;36m<module>\u001b[1;34m\u001b[0m\n\u001b[0;32m      2\u001b[0m \u001b[1;32mif\u001b[0m \u001b[0m__name__\u001b[0m \u001b[1;33m==\u001b[0m\u001b[1;34m'__main__'\u001b[0m\u001b[1;33m:\u001b[0m\u001b[1;33m\u001b[0m\u001b[1;33m\u001b[0m\u001b[0m\n\u001b[0;32m      3\u001b[0m     \u001b[0mgraph\u001b[0m \u001b[1;33m=\u001b[0m \u001b[0mGraph\u001b[0m\u001b[1;33m(\u001b[0m\u001b[1;33m)\u001b[0m\u001b[1;33m\u001b[0m\u001b[1;33m\u001b[0m\u001b[0m\n\u001b[1;32m----> 4\u001b[1;33m     \u001b[1;32mfor\u001b[0m \u001b[0m_\u001b[0m \u001b[1;32min\u001b[0m \u001b[0mrange\u001b[0m\u001b[1;33m(\u001b[0m\u001b[0mint\u001b[0m\u001b[1;33m(\u001b[0m\u001b[0minput\u001b[0m\u001b[1;33m(\u001b[0m\u001b[1;34m\"Enter No of Edges\\n\"\u001b[0m\u001b[1;33m)\u001b[0m\u001b[1;33m)\u001b[0m\u001b[1;33m)\u001b[0m\u001b[1;33m:\u001b[0m\u001b[1;33m\u001b[0m\u001b[1;33m\u001b[0m\u001b[0m\n\u001b[0m\u001b[0;32m      5\u001b[0m         \u001b[0mu\u001b[0m\u001b[1;33m,\u001b[0m \u001b[0mv\u001b[0m \u001b[1;33m=\u001b[0m \u001b[0minput\u001b[0m\u001b[1;33m(\u001b[0m\u001b[1;33m)\u001b[0m\u001b[1;33m.\u001b[0m\u001b[0mstrip\u001b[0m\u001b[1;33m(\u001b[0m\u001b[1;33m)\u001b[0m\u001b[1;33m.\u001b[0m\u001b[0msplit\u001b[0m\u001b[1;33m(\u001b[0m\u001b[1;34m\"->\"\u001b[0m\u001b[1;33m)\u001b[0m\u001b[1;33m\u001b[0m\u001b[1;33m\u001b[0m\u001b[0m\n\u001b[0;32m      6\u001b[0m         \u001b[0mgraph\u001b[0m\u001b[1;33m.\u001b[0m\u001b[0maddNode\u001b[0m\u001b[1;33m(\u001b[0m\u001b[0mu\u001b[0m\u001b[1;33m.\u001b[0m\u001b[0mstrip\u001b[0m\u001b[1;33m(\u001b[0m\u001b[1;33m)\u001b[0m\u001b[1;33m,\u001b[0m \u001b[0mv\u001b[0m\u001b[1;33m.\u001b[0m\u001b[0mstrip\u001b[0m\u001b[1;33m(\u001b[0m\u001b[1;33m)\u001b[0m\u001b[1;33m)\u001b[0m\u001b[1;33m\u001b[0m\u001b[1;33m\u001b[0m\u001b[0m\n",
      "\u001b[1;31mValueError\u001b[0m: invalid literal for int() with base 10: 'f'"
     ]
    }
   ],
   "source": [
    "#main for Graph Input\n",
    "if __name__ =='__main__':\n",
    "    graph = Graph()\n",
    "    for _ in range(int(input(\"Enter No of Edges\\n\"))):\n",
    "        u, v = input().strip().split(\"->\")\n",
    "        graph.addNode(u.strip(), v.strip())\n",
    "        graph.showGraph()\n",
    "    print(graph.findAllPaths('a', 'd'))\n",
    "    print(graph.isPath('a','d'))\n",
    "    print(graph.findshortestpath('a','d'))"
   ]
  },
  {
   "cell_type": "code",
   "execution_count": null,
   "metadata": {},
   "outputs": [],
   "source": [
    "   #main for MinHeightTree\n",
    "    root = graph.minTree([1,2,3,4,5,6,7,8,9])\n",
    "    Graph.Traversal(root)"
   ]
  },
  {
   "cell_type": "code",
   "execution_count": 192,
   "metadata": {},
   "outputs": [
    {
     "name": "stdout",
     "output_type": "stream",
     "text": [
      "[[1], [2], [4], [None, None], [5], [None, None], [[...], [...]], [3], [6], [None, None], [7], [None, None], [[...], [...]], [[...], [...]], [1], [2], [4], [None, None], [5], [None, None], [[...], [...]], [3], [6], [None, None], [7], [None, None], [[...], [...]], [[...], [...]], [1], [2], [4], [None, None], [5], [None, None], [[...], [...]], [3], [6], [None, None], [7], [None, None], [[...], [...]], [[...], [...]]]\n"
     ]
    }
   ],
   "source": [
    "if __name__ == '__main__':\n",
    "    root = Node(1)\n",
    "    root.left = Node(2)\n",
    "    root.right = Node(3)\n",
    "    root.left.left = Node(4)\n",
    "    root.left.right = Node(5)\n",
    "    root.right.left = Node(6)\n",
    "    root.right.right = Node(7)\n",
    "    li = dLinkedLists(root)\n",
    "    print(li)"
   ]
  },
  {
   "cell_type": "code",
   "execution_count": 175,
   "metadata": {},
   "outputs": [
    {
     "ename": "AttributeError",
     "evalue": "'Graph' object has no attribute 'Traversalmy'",
     "output_type": "error",
     "traceback": [
      "\u001b[1;31m---------------------------------------------------------------------------\u001b[0m",
      "\u001b[1;31mAttributeError\u001b[0m                            Traceback (most recent call last)",
      "\u001b[1;32m<ipython-input-175-8c6463c35ca4>\u001b[0m in \u001b[0;36m<module>\u001b[1;34m\u001b[0m\n\u001b[1;32m----> 1\u001b[1;33m \u001b[0mgraph\u001b[0m\u001b[1;33m.\u001b[0m\u001b[0mTraversalmy\u001b[0m\u001b[1;33m(\u001b[0m\u001b[0mroot\u001b[0m\u001b[1;33m)\u001b[0m\u001b[1;33m\u001b[0m\u001b[1;33m\u001b[0m\u001b[0m\n\u001b[0m",
      "\u001b[1;31mAttributeError\u001b[0m: 'Graph' object has no attribute 'Traversalmy'"
     ]
    }
   ],
   "source": []
  },
  {
   "cell_type": "code",
   "execution_count": null,
   "metadata": {},
   "outputs": [],
   "source": [
    " "
   ]
  },
  {
   "cell_type": "code",
   "execution_count": null,
   "metadata": {},
   "outputs": [],
   "source": []
  },
  {
   "cell_type": "code",
   "execution_count": null,
   "metadata": {},
   "outputs": [],
   "source": []
  }
 ],
 "metadata": {
  "kernelspec": {
   "display_name": "Python 3",
   "language": "python",
   "name": "python3"
  },
  "language_info": {
   "codemirror_mode": {
    "name": "ipython",
    "version": 3
   },
   "file_extension": ".py",
   "mimetype": "text/x-python",
   "name": "python",
   "nbconvert_exporter": "python",
   "pygments_lexer": "ipython3",
   "version": "3.7.3"
  }
 },
 "nbformat": 4,
 "nbformat_minor": 2
}
