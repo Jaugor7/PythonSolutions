{
 "cells": [
  {
   "cell_type": "code",
   "execution_count": 42,
   "metadata": {},
   "outputs": [],
   "source": [
    "\n",
    "class Solution:\n",
    "    #merge n and m binary numbers from index i to j \n",
    "    def merge(self, n, m, i, j):\n",
    "        #create Mask for Resetting Bits from i to j\n",
    "        #indexing is from right to left in it and j is greater than i\n",
    "        all_ones = ~0 \n",
    "        print(\"ALL ones: \", all_ones)\n",
    "        print(\"bin all ones: \", bin(all_ones))\n",
    "        \n",
    "        left = (all_ones << j+1)\n",
    "        print(\"left: \",left)\n",
    "        print(\"bin left: \", bin(left))\n",
    "        \n",
    "        right = (1 << i) - 1\n",
    "        print(\"right: \",right)\n",
    "        print(\"bin right: \", bin(right))\n",
    "        \n",
    "        mask = left | right\n",
    "        print(\"mask: \",mask)\n",
    "        print(\"bin mask:\", bin(mask))\n",
    "        \n",
    "        n_clear = n & mask\n",
    "        print(\"clear: \", n_clear)\n",
    "        print(\"bin clear: \", bin(n_clear))\n",
    "        \n",
    "        ans  = n_clear | (m << i)\n",
    "        print(\"ans: \", ans)\n",
    "        return bin(ans)\n",
    "    \n",
    "    def smallest_largest(self, s: str)->tuple:\n",
    "        c0, c1, i, flag= 0, 0, len(s)-1 , 0\n",
    "        \n",
    "        if s[i] == '0':\n",
    "            while True:\n",
    "                if s[i] == '0':\n",
    "                    c0 += 1\n",
    "                else:\n",
    "                    break\n",
    "                i -= 1\n",
    "            while True:\n",
    "                if s[i] == '1':\n",
    "                    c1 += 1\n",
    "                else:\n",
    "                    break\n",
    "                i -= 1\n",
    "            print(c0)\n",
    "            print(c1)\n",
    "            \n",
    "        else:\n",
    "            while True:\n",
    "                if s[i] == '1':\n",
    "                    c1 += 1\n",
    "                else:\n",
    "                    break\n",
    "                i -= 1\n",
    "            while True:\n",
    "                if s[i] == '0':\n",
    "                    c0 += 1\n",
    "                else:\n",
    "                    break\n",
    "                i -= 1\n",
    "            print(c0)\n",
    "            print(c1)\n",
    "            \n",
    "        s = s[:len(s)-c0-c1-1] + '0'*(c0+c1+1)\n",
    "        print(s)\n",
    "        max_s = (int(\"1\"*(c1+1), 2) << c0) | int(s,2)\n",
    "        print(\"max: \", max_s)\n",
    "        print(\"max bin\", bin(max_s))\n",
    "        min_s = int(\"1\"*(c1+1), 2) | int(s,2)\n",
    "        print(\"min: \",min_s)\n",
    "        print(\"min bin: \", bin(min_s))\n",
    "        return (max_s,min_s)\n",
    "         "
   ]
  },
  {
   "cell_type": "code",
   "execution_count": 43,
   "metadata": {},
   "outputs": [
    {
     "name": "stdout",
     "output_type": "stream",
     "text": [
      "Enter Number:\n",
      "110011\n",
      "110011\n",
      "2\n",
      "2\n",
      "100000\n",
      "max:  60\n",
      "max bin 0b111100\n",
      "min:  39\n",
      "min bin:  0b100111\n",
      "(60, 39)\n"
     ]
    }
   ],
   "source": [
    "#\n",
    "if __name__ == '__main__':\n",
    "    n = input(\"Enter Number:\\n\")\n",
    "    print(n)\n",
    "    obj = Solution()\n",
    "    print(obj.smallest_largest(n))"
   ]
  },
  {
   "cell_type": "code",
   "execution_count": 36,
   "metadata": {},
   "outputs": [
    {
     "name": "stdout",
     "output_type": "stream",
     "text": [
      "Enter 1st Number:\n",
      "85\n",
      "0b1010101\n",
      "Enter 2nd Number:\n",
      "4\n",
      "0b100\n",
      "Enter Position in terms of two Points:\n",
      "2 4\n",
      "ALL ones:  -1\n",
      "bin all ones:  -0b1\n",
      "left:  -32\n",
      "bin left:  -0b100000\n",
      "right:  3\n",
      "bin right:  0b11\n",
      "mask:  -29\n",
      "bin mask: -0b11101\n",
      "clear:  65\n",
      "bin clear:  0b1000001\n",
      "ans:  81\n",
      "0b1010001\n"
     ]
    }
   ],
   "source": [
    "#Merge Two Main Body\n",
    "if __name__ == '__main__':\n",
    "    n = int(input(\"Enter 1st Number:\\n\"))\n",
    "    print(bin(n))\n",
    "    m = int(input(\"Enter 2nd Number:\\n\"))\n",
    "    print(bin(m))\n",
    "    i, j = map(int, input(\"Enter Position in terms of two Points:\\n\").strip().split(' '))\n",
    "    obj = Solution()\n",
    "    print(obj.merge(n,m,i,j))"
   ]
  },
  {
   "cell_type": "code",
   "execution_count": null,
   "metadata": {},
   "outputs": [],
   "source": []
  },
  {
   "cell_type": "code",
   "execution_count": null,
   "metadata": {},
   "outputs": [],
   "source": []
  }
 ],
 "metadata": {
  "kernelspec": {
   "display_name": "Python 3",
   "language": "python",
   "name": "python3"
  },
  "language_info": {
   "codemirror_mode": {
    "name": "ipython",
    "version": 3
   },
   "file_extension": ".py",
   "mimetype": "text/x-python",
   "name": "python",
   "nbconvert_exporter": "python",
   "pygments_lexer": "ipython3",
   "version": "3.7.3"
  }
 },
 "nbformat": 4,
 "nbformat_minor": 2
}
