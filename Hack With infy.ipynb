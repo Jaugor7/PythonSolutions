{
 "cells": [
  {
   "cell_type": "code",
   "execution_count": 10,
   "metadata": {},
   "outputs": [],
   "source": [
    "class Node:\n",
    "    def __init__(self,data):\n",
    "        self.data = data\n",
    "        self.left = None\n",
    "        self.right = None\n"
   ]
  },
  {
   "cell_type": "code",
   "execution_count": 3,
   "metadata": {},
   "outputs": [
    {
     "name": "stdout",
     "output_type": "stream",
     "text": [
      "5\n"
     ]
    }
   ],
   "source": [
    "a=None\n",
    "a = 5\n",
    "print(a)"
   ]
  },
  {
   "cell_type": "code",
   "execution_count": 29,
   "metadata": {},
   "outputs": [
    {
     "name": "stdout",
     "output_type": "stream",
     "text": [
      "8\n",
      "3 2\n",
      "3 1\n",
      "2 5\n",
      "2 4\n",
      "5 7\n",
      "5 8\n",
      "4 6\n",
      "jas\n"
     ]
    },
    {
     "ename": "ValueError",
     "evalue": "invalid literal for int() with base 10: 'jas'",
     "output_type": "error",
     "traceback": [
      "\u001b[1;31m---------------------------------------------------------------------------\u001b[0m",
      "\u001b[1;31mValueError\u001b[0m                                Traceback (most recent call last)",
      "\u001b[1;32m<ipython-input-29-924c38ba08aa>\u001b[0m in \u001b[0;36m<module>\u001b[1;34m\u001b[0m\n\u001b[0;32m     21\u001b[0m \u001b[1;33m\u001b[0m\u001b[0m\n\u001b[0;32m     22\u001b[0m \u001b[0ms\u001b[0m \u001b[1;33m=\u001b[0m \u001b[0minput\u001b[0m\u001b[1;33m(\u001b[0m\u001b[1;33m)\u001b[0m\u001b[1;33m.\u001b[0m\u001b[0mstrip\u001b[0m\u001b[1;33m(\u001b[0m\u001b[1;33m)\u001b[0m\u001b[1;33m\u001b[0m\u001b[1;33m\u001b[0m\u001b[0m\n\u001b[1;32m---> 23\u001b[1;33m \u001b[0mcolor\u001b[0m \u001b[1;33m=\u001b[0m \u001b[0mlist\u001b[0m\u001b[1;33m(\u001b[0m\u001b[0mmap\u001b[0m\u001b[1;33m(\u001b[0m\u001b[0mint\u001b[0m\u001b[1;33m,\u001b[0m \u001b[0ms\u001b[0m\u001b[1;33m.\u001b[0m\u001b[0msplit\u001b[0m\u001b[1;33m(\u001b[0m\u001b[1;34m' '\u001b[0m\u001b[1;33m)\u001b[0m\u001b[1;33m)\u001b[0m\u001b[1;33m)\u001b[0m\u001b[1;33m\u001b[0m\u001b[1;33m\u001b[0m\u001b[0m\n\u001b[0m\u001b[0;32m     24\u001b[0m \u001b[1;33m\u001b[0m\u001b[0m\n\u001b[0;32m     25\u001b[0m \u001b[0mq\u001b[0m \u001b[1;33m=\u001b[0m \u001b[0mint\u001b[0m\u001b[1;33m(\u001b[0m\u001b[0minput\u001b[0m\u001b[1;33m(\u001b[0m\u001b[1;33m)\u001b[0m\u001b[1;33m)\u001b[0m\u001b[1;33m\u001b[0m\u001b[1;33m\u001b[0m\u001b[0m\n",
      "\u001b[1;31mValueError\u001b[0m: invalid literal for int() with base 10: 'jas'"
     ]
    }
   ],
   "source": [
    "#Nodes Hack With Infy Code\n",
    "def sol(n, edges, color, query):\n",
    "    key = color[query-1]\n",
    "    color[query-1] = 's'\n",
    "    temp_li = []\n",
    "    for i in edges:\n",
    "        if i[0] == query:\n",
    "            temp_li.append(i[1])\n",
    "    for j in temp_li:\n",
    "        for i in edges:\n",
    "            if i[0] == j:\n",
    "                temp_li.append(i[1])\n",
    "        if color [j-1] == key:\n",
    "            color[j-1] = 's'\n",
    "\n",
    "n = int(input())\n",
    "edges = []\n",
    "for _ in range(n-1):\n",
    "    s = input().strip()\n",
    "    edges.append(list(map(int, s.split(' '))))\n",
    "\n",
    "s = input().strip()\n",
    "color = list(map(int, s.split(' ')))\n",
    "\n",
    "q = int(input())\n",
    "for _ in range(q):\n",
    "    query = int(input())\n",
    "    sol(n, edges, color, query)\n",
    "    print(color.count('s'))\n"
   ]
  },
  {
   "cell_type": "code",
   "execution_count": 26,
   "metadata": {},
   "outputs": [
    {
     "name": "stdout",
     "output_type": "stream",
     "text": [
      "3\n",
      "4\n",
      "5\n",
      "6\n",
      "7\n"
     ]
    }
   ],
   "source": [
    "#hack with infy version 2\n",
    "# Write your code here\n",
    "def sol(edges, color, query):\n",
    "    key = color[query-1]\n",
    "    color[query-1] = 's'\n",
    "\n",
    "    temp_li = edges[query-1]\n",
    "\n",
    "    for j in temp_li:\n",
    "        temp_li.extend(edges[j-1])\n",
    "\n",
    "    for j in temp_li:\n",
    "        if color [j-1] == key:\n",
    "            color[j-1] = 's'\n",
    "\n",
    "n = int(input())\n",
    "edges = [[] for i in range(n)]\n",
    "\n",
    "for _ in range(n-1):\n",
    "    s = input().strip()\n",
    "    u,v = map(int,s.split(' '))\n",
    "    edges[u-1].append(v)\n",
    "\n",
    "s = input().strip()\n",
    "color = list(map(int, s.split(' ')))\n",
    "\n",
    "q = int(input())\n",
    "for _ in range(q):\n",
    "    query = int(input())\n",
    "    sol(edges, color, query)\n",
    "    print(color.count('s'))\n"
   ]
  },
  {
   "cell_type": "code",
   "execution_count": null,
   "metadata": {},
   "outputs": [],
   "source": []
  },
  {
   "cell_type": "code",
   "execution_count": null,
   "metadata": {},
   "outputs": [],
   "source": [
    "\n"
   ]
  },
  {
   "cell_type": "code",
   "execution_count": null,
   "metadata": {},
   "outputs": [],
   "source": []
  }
 ],
 "metadata": {
  "kernelspec": {
   "display_name": "Python 3",
   "language": "python",
   "name": "python3"
  },
  "language_info": {
   "codemirror_mode": {
    "name": "ipython",
    "version": 3
   },
   "file_extension": ".py",
   "mimetype": "text/x-python",
   "name": "python",
   "nbconvert_exporter": "python",
   "pygments_lexer": "ipython3",
   "version": "3.7.3"
  }
 },
 "nbformat": 4,
 "nbformat_minor": 2
}
